{
 "cells": [
  {
   "cell_type": "code",
   "execution_count": 1,
   "id": "a34eb90f-8be2-4c92-b5eb-af2a988ce8b6",
   "metadata": {},
   "outputs": [],
   "source": [
    "import os\n",
    "import geopandas as gpd \n",
    "import pandas as pd\n",
    "from shapely import box"
   ]
  },
  {
   "cell_type": "code",
   "execution_count": 2,
   "id": "59fcc564-317d-4a1a-be93-a08cc969a867",
   "metadata": {},
   "outputs": [],
   "source": [
    "data_dir = \"../../data/\""
   ]
  },
  {
   "cell_type": "code",
   "execution_count": 3,
   "id": "cfe423e3-3857-4c8e-bf33-0cb08a25463f",
   "metadata": {},
   "outputs": [
    {
     "name": "stdout",
     "output_type": "stream",
     "text": [
      "Loaded 700712 DE Africa waterbodies\n"
     ]
    }
   ],
   "source": [
    "# Load the DE Africa Waterbodies Historical Extent Product.\n",
    "deafrica_waterbodies_fp =  os.path.join(data_dir, \"waterbodies.parquet\")\n",
    "deafrica_waterbodies = gpd.read_parquet(deafrica_waterbodies_fp)\n",
    "print(f\"Loaded {len(deafrica_waterbodies)} DE Africa waterbodies\")"
   ]
  },
  {
   "cell_type": "code",
   "execution_count": 4,
   "id": "d3f8bde9-1737-4f09-89ec-f779d42396ad",
   "metadata": {},
   "outputs": [
    {
     "name": "stdout",
     "output_type": "stream",
     "text": [
      "Loaded 34311 waterbodies\n"
     ]
    }
   ],
   "source": [
    "realsat_fp = os.path.join(data_dir, \"ReaLSAT-2-0/ReaLSAT.shp\")\n",
    "# The base shapefile contains the reference shape of all the reservoirs\n",
    "realsat  = gpd.read_file(realsat_fp, bbox=box(*deafrica_waterbodies.total_bounds))\n",
    "# Filter further to Continent\n",
    "realsat = realsat[realsat[\"CONTINENT\"]==4].reset_index(drop=True)\n",
    "print(f\"Loaded {len(realsat)} waterbodies\")"
   ]
  },
  {
   "cell_type": "code",
   "execution_count": 5,
   "id": "db2c5760-d4d6-427c-9ab2-9152f727ee6d",
   "metadata": {},
   "outputs": [],
   "source": [
    "assert deafrica_waterbodies.crs.equals(realsat.crs)"
   ]
  },
  {
   "cell_type": "code",
   "execution_count": 6,
   "id": "9b97d42f-af5b-4a6c-8f96-19b29d9ddb11",
   "metadata": {},
   "outputs": [],
   "source": [
    "# ID: the unique ID for water body. ID values are used as names of shapefiles that contain monthly shapes.\n",
    "# RESERVOIR: categorizes water bodies into two sets - 1 \n",
    "# represents reservoirs manually verified by visual validation, \n",
    "# and 0 represents other water bodies. \n",
    "# Note that the reservoir list is not exhaustive and water bodies with 0 value \n",
    "# could be reservoirs.\n",
    "\n",
    "# Select LakeATLAS Attributes to keep\n",
    "sel_cols = [\"Lake_name\", \"Lake_type\", \"geometry\"]"
   ]
  },
  {
   "cell_type": "code",
   "execution_count": 7,
   "id": "df185cc0-8209-4324-bfe1-4ddd891227cb",
   "metadata": {},
   "outputs": [
    {
     "name": "stdout",
     "output_type": "stream",
     "text": [
      "Found 1942 artificial waterbodies\n"
     ]
    }
   ],
   "source": [
    "# Identify the resevoirs\n",
    "reservoirs = realsat[realsat[\"RESERVOIR\"]==1]\n",
    "print(f\"Found {len(reservoirs)} artificial waterbodies\")"
   ]
  },
  {
   "cell_type": "code",
   "execution_count": 8,
   "id": "7d948d0f-6d7d-41a9-9ad6-4add722da327",
   "metadata": {},
   "outputs": [
    {
     "name": "stdout",
     "output_type": "stream",
     "text": [
      "2250 DE Africa waterbodies identified as reservoirs\n"
     ]
    }
   ],
   "source": [
    "# Identify the DE Africa waterbodies that are reservoirs based on intersection with the ReaLSAT dataset\n",
    "reservoir_uids = deafrica_waterbodies.sjoin(reservoirs, how=\"inner\", predicate=\"intersects\")[\"uid\"].unique()\n",
    "\n",
    "# Set the default to 0 which means is not a reservoir\n",
    "deafrica_waterbodies[\"ReaLSAT_Reservoir\"] = 0 \n",
    "deafrica_waterbodies.loc[deafrica_waterbodies[\"uid\"].isin(reservoir_uids), \"ReaLSAT_Reservoir\"] = 1\n",
    "\n",
    "print(f\"{len(deafrica_waterbodies[deafrica_waterbodies['ReaLSAT_Reservoir'] == 1])} DE Africa waterbodies identified as reservoirs\")"
   ]
  },
  {
   "cell_type": "code",
   "execution_count": 9,
   "id": "3ee17640-a46d-4f33-bd56-9a8540dd5f2a",
   "metadata": {},
   "outputs": [],
   "source": [
    "# Export the updated waterbodies\n",
    "deafrica_waterbodies.to_parquet(os.path.join(data_dir, \"deafrica_waterbodies_realsat_update.parquet\"))"
   ]
  }
 ],
 "metadata": {
  "kernelspec": {
   "display_name": "Python 3 (ipykernel)",
   "language": "python",
   "name": "python3"
  },
  "language_info": {
   "codemirror_mode": {
    "name": "ipython",
    "version": 3
   },
   "file_extension": ".py",
   "mimetype": "text/x-python",
   "name": "python",
   "nbconvert_exporter": "python",
   "pygments_lexer": "ipython3",
   "version": "3.12.9"
  }
 },
 "nbformat": 4,
 "nbformat_minor": 5
}

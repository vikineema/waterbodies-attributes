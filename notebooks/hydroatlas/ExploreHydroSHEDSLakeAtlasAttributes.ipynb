{
 "cells": [
  {
   "cell_type": "code",
   "execution_count": 1,
   "id": "15cc026c-19ab-43d4-b04e-a9df8c80f81f",
   "metadata": {},
   "outputs": [],
   "source": [
    "import os\n",
    "import geopandas as gpd \n",
    "import pandas as pd\n",
    "from shapely import box"
   ]
  },
  {
   "cell_type": "code",
   "execution_count": 2,
   "id": "c6ba9368-c038-4895-94cb-21332fb07415",
   "metadata": {},
   "outputs": [],
   "source": [
    "data_dir = \"../../data/\""
   ]
  },
  {
   "cell_type": "code",
   "execution_count": 3,
   "id": "9c58b218-8b0f-42ed-8cbc-dbc1eb252668",
   "metadata": {},
   "outputs": [
    {
     "name": "stdout",
     "output_type": "stream",
     "text": [
      "Loaded 700712 DE Africa waterbodies\n"
     ]
    }
   ],
   "source": [
    "# Load the DE Africa Waterbodies Historical Extent Product.\n",
    "deafrica_waterbodies_fp =  os.path.join(data_dir, \"waterbodies.parquet\")\n",
    "deafrica_waterbodies = gpd.read_parquet(deafrica_waterbodies_fp)\n",
    "print(f\"Loaded {len(deafrica_waterbodies)} DE Africa waterbodies\")"
   ]
  },
  {
   "cell_type": "code",
   "execution_count": 4,
   "id": "796a3d59-8e7f-4fb1-9446-5b410d2a0c8e",
   "metadata": {},
   "outputs": [
    {
     "name": "stdout",
     "output_type": "stream",
     "text": [
      "Loaded 15950 waterbodies\n"
     ]
    }
   ],
   "source": [
    "hydroatlas_lakeatlas_fp = os.path.join(data_dir, \"LakeATLAS_v10_shp/LakeATLAS_v10_pol_east.shp\")\n",
    "hydroatlas_lakeatlas  = gpd.read_file(hydroatlas_lakeatlas_fp, bbox=box(*deafrica_waterbodies.total_bounds))\n",
    "# Filter further to Continent\n",
    "hydroatlas_lakeatlas = hydroatlas_lakeatlas[hydroatlas_lakeatlas[\"Continent\"]==\"Africa\"].reset_index(drop=True)\n",
    "print(f\"Loaded {len(hydroatlas_lakeatlas)} waterbodies\")"
   ]
  },
  {
   "cell_type": "code",
   "execution_count": 5,
   "id": "989d24b4-5e9e-4308-8cca-5b874806ec34",
   "metadata": {},
   "outputs": [],
   "source": [
    "assert deafrica_waterbodies.crs.equals(hydroatlas_lakeatlas.crs)"
   ]
  },
  {
   "cell_type": "code",
   "execution_count": 6,
   "id": "a373185c-af67-4ed3-adc2-dc8d69196069",
   "metadata": {},
   "outputs": [],
   "source": [
    "# Select LakeATLAS Attributes to keep\n",
    "\n",
    "# Lake Type :  Lake_type 0 = no Lake; 1 = Lake; 2 = Reservoir; 3 = Lagoon\n",
    "# Lake Name (Name of lake or reservoir): Lake_name\n",
    "sel_cols = [\"Lake_name\", \"Lake_type\", \"geometry\"]\n",
    "hydroatlas_lakeatlas = hydroatlas_lakeatlas[sel_cols]"
   ]
  },
  {
   "cell_type": "code",
   "execution_count": 7,
   "id": "67a7c090-84ab-4115-aad9-1b5884b626bb",
   "metadata": {},
   "outputs": [
    {
     "name": "stdout",
     "output_type": "stream",
     "text": [
      "Found 715 artificial waterbodies\n"
     ]
    }
   ],
   "source": [
    "# Identify the resevoirs\n",
    "reservoirs = hydroatlas_lakeatlas[hydroatlas_lakeatlas[\"Lake_type\"]==2]\n",
    "print(f\"Found {len(reservoirs)} artificial waterbodies\")"
   ]
  },
  {
   "cell_type": "code",
   "execution_count": 8,
   "id": "d1b15994-2d97-4827-9659-b89e27418305",
   "metadata": {},
   "outputs": [
    {
     "name": "stdout",
     "output_type": "stream",
     "text": [
      "Found 112 named waterbodies\n",
      "Found 37 named artificial waterbodies\n",
      "Found 75 named natural waterbodies\n"
     ]
    }
   ],
   "source": [
    "# How many waterbodies in the dataset have names?\n",
    "filtered_by_name = hydroatlas_lakeatlas[hydroatlas_lakeatlas[\"Lake_name\"].notna()]\n",
    "print(f\"Found {len(filtered_by_name)} named waterbodies\")\n",
    "\n",
    "named_reservoirs = filtered_by_name[filtered_by_name[\"Lake_type\"]==2]\n",
    "print(f\"Found {len(named_reservoirs)} named artificial waterbodies\")\n",
    "\n",
    "named_natural_waterbodies = filtered_by_name[filtered_by_name[\"Lake_type\"]!=2]\n",
    "print(f\"Found {len(named_natural_waterbodies)} named natural waterbodies\")"
   ]
  },
  {
   "cell_type": "code",
   "execution_count": 9,
   "id": "76af508d-c014-458c-9594-2a4d0fab74f7",
   "metadata": {},
   "outputs": [
    {
     "name": "stdout",
     "output_type": "stream",
     "text": [
      "1246 DE Africa waterbodies identified as reservoirs\n"
     ]
    }
   ],
   "source": [
    "# Identify the DE Africa waterbodies that are reservoirs based on intersection with the LakeATLAS dataset\n",
    "reservoir_uids = deafrica_waterbodies.sjoin(reservoirs, how=\"inner\", predicate=\"intersects\")[\"uid\"].unique()\n",
    "\n",
    "# Set the default to 0 which means is not a reservoir\n",
    "deafrica_waterbodies[\"LakeATLAS_Reservoir\"] = 0 \n",
    "deafrica_waterbodies.loc[deafrica_waterbodies[\"uid\"].isin(reservoir_uids), \"LakeATLAS_Reservoir\"] = 1\n",
    "\n",
    "print(f\"{len(deafrica_waterbodies[deafrica_waterbodies['LakeATLAS_Reservoir'] == 1])} DE Africa waterbodies identified as reservoirs\")"
   ]
  },
  {
   "cell_type": "code",
   "execution_count": 10,
   "id": "a75f0f5c-078e-42f7-a321-55fb47a0a814",
   "metadata": {},
   "outputs": [],
   "source": [
    "# Assign names to the DE Africa waterbodies based on intersection with the LakeATLAS dataset\n",
    "joined = deafrica_waterbodies.sjoin(filtered_by_name[['Lake_name',\"geometry\"]], how=\"left\", predicate=\"intersects\")\n",
    "keep_columns = list(deafrica_waterbodies.columns) + [\"Lake_name\"]\n",
    "joined = joined[keep_columns]"
   ]
  },
  {
   "cell_type": "code",
   "execution_count": 11,
   "id": "2314307f-146a-4fd9-bee6-60f332cc6983",
   "metadata": {},
   "outputs": [
    {
     "data": {
      "text/html": [
       "<div>\n",
       "<style scoped>\n",
       "    .dataframe tbody tr th:only-of-type {\n",
       "        vertical-align: middle;\n",
       "    }\n",
       "\n",
       "    .dataframe tbody tr th {\n",
       "        vertical-align: top;\n",
       "    }\n",
       "\n",
       "    .dataframe thead th {\n",
       "        text-align: right;\n",
       "    }\n",
       "</style>\n",
       "<table border=\"1\" class=\"dataframe\">\n",
       "  <thead>\n",
       "    <tr style=\"text-align: right;\">\n",
       "      <th></th>\n",
       "      <th>uid</th>\n",
       "      <th>wb_id</th>\n",
       "      <th>area_m2</th>\n",
       "      <th>length_m</th>\n",
       "      <th>perim_m</th>\n",
       "      <th>geometry</th>\n",
       "      <th>LakeATLAS_Reservoir</th>\n",
       "      <th>Lake_name</th>\n",
       "    </tr>\n",
       "  </thead>\n",
       "  <tbody>\n",
       "    <tr>\n",
       "      <th>0</th>\n",
       "      <td>krvt190zcz</td>\n",
       "      <td>253769</td>\n",
       "      <td>1.525888e+10</td>\n",
       "      <td>1.386130e+06</td>\n",
       "      <td>5.533158e+07</td>\n",
       "      <td>POLYGON ((14.92285 -4.66587, 14.92254 -4.66587...</td>\n",
       "      <td>0</td>\n",
       "      <td>Mai-Ndombe, Tumba</td>\n",
       "    </tr>\n",
       "    <tr>\n",
       "      <th>1</th>\n",
       "      <td>kvbe9t2dk9</td>\n",
       "      <td>341715</td>\n",
       "      <td>2.987207e+10</td>\n",
       "      <td>7.019634e+05</td>\n",
       "      <td>2.964780e+06</td>\n",
       "      <td>POLYGON ((34.82889 -13.36661, 34.8292 -13.3666...</td>\n",
       "      <td>0</td>\n",
       "      <td>Malawi, Malombe</td>\n",
       "    </tr>\n",
       "    <tr>\n",
       "      <th>2</th>\n",
       "      <td>sewvr0derz</td>\n",
       "      <td>668141</td>\n",
       "      <td>9.156798e+09</td>\n",
       "      <td>1.680781e+06</td>\n",
       "      <td>2.620266e+07</td>\n",
       "      <td>POLYGON ((30.33167 20.75167, 30.33198 20.75167...</td>\n",
       "      <td>1</td>\n",
       "      <td>Jebel Aulia Reservoir, Nasser</td>\n",
       "    </tr>\n",
       "  </tbody>\n",
       "</table>\n",
       "</div>"
      ],
      "text/plain": [
       "          uid   wb_id       area_m2      length_m       perim_m  \\\n",
       "0  krvt190zcz  253769  1.525888e+10  1.386130e+06  5.533158e+07   \n",
       "1  kvbe9t2dk9  341715  2.987207e+10  7.019634e+05  2.964780e+06   \n",
       "2  sewvr0derz  668141  9.156798e+09  1.680781e+06  2.620266e+07   \n",
       "\n",
       "                                            geometry  LakeATLAS_Reservoir  \\\n",
       "0  POLYGON ((14.92285 -4.66587, 14.92254 -4.66587...                    0   \n",
       "1  POLYGON ((34.82889 -13.36661, 34.8292 -13.3666...                    0   \n",
       "2  POLYGON ((30.33167 20.75167, 30.33198 20.75167...                    1   \n",
       "\n",
       "                       Lake_name  \n",
       "0              Mai-Ndombe, Tumba  \n",
       "1                Malawi, Malombe  \n",
       "2  Jebel Aulia Reservoir, Nasser  "
      ]
     },
     "execution_count": 11,
     "metadata": {},
     "output_type": "execute_result"
    }
   ],
   "source": [
    "# Get the waterbodies that got assigned more than one name\n",
    "duplicates = joined[joined.duplicated(\"uid\", keep=False)]\n",
    "\n",
    "# Combine the Name for waterbodies with more than one Name.\n",
    "name_combined = (\n",
    "    duplicates\n",
    "    .groupby('uid')['Lake_name']\n",
    "    .agg(lambda x: ', '.join(sorted(set(x))))\n",
    "    .reset_index()\n",
    ")\n",
    "duplicates = duplicates.drop_duplicates(subset=['uid'], keep=\"first\").drop(columns=[\"Lake_name\"]).merge(name_combined, on=\"uid\")\n",
    "duplicates"
   ]
  },
  {
   "cell_type": "code",
   "execution_count": 12,
   "id": "f3b67d58-a315-4f50-b934-5488c06d4b77",
   "metadata": {},
   "outputs": [
    {
     "data": {
      "text/html": [
       "<div>\n",
       "<style scoped>\n",
       "    .dataframe tbody tr th:only-of-type {\n",
       "        vertical-align: middle;\n",
       "    }\n",
       "\n",
       "    .dataframe tbody tr th {\n",
       "        vertical-align: top;\n",
       "    }\n",
       "\n",
       "    .dataframe thead th {\n",
       "        text-align: right;\n",
       "    }\n",
       "</style>\n",
       "<table border=\"1\" class=\"dataframe\">\n",
       "  <thead>\n",
       "    <tr style=\"text-align: right;\">\n",
       "      <th></th>\n",
       "      <th>uid</th>\n",
       "      <th>wb_id</th>\n",
       "      <th>area_m2</th>\n",
       "      <th>length_m</th>\n",
       "      <th>perim_m</th>\n",
       "      <th>geometry</th>\n",
       "      <th>LakeATLAS_Reservoir</th>\n",
       "      <th>LakeATLAS_Name</th>\n",
       "    </tr>\n",
       "  </thead>\n",
       "  <tbody>\n",
       "    <tr>\n",
       "      <th>0</th>\n",
       "      <td>keyujdhemd</td>\n",
       "      <td>169502</td>\n",
       "      <td>7.812900e+06</td>\n",
       "      <td>2.124612e+04</td>\n",
       "      <td>8.256000e+04</td>\n",
       "      <td>POLYGON ((32.2308 -23.10242, 32.23204 -23.1024...</td>\n",
       "      <td>0</td>\n",
       "      <td>NaN</td>\n",
       "    </tr>\n",
       "    <tr>\n",
       "      <th>1</th>\n",
       "      <td>ebgw0xw9gs</td>\n",
       "      <td>15400</td>\n",
       "      <td>1.710000e+04</td>\n",
       "      <td>4.500000e+02</td>\n",
       "      <td>1.020000e+03</td>\n",
       "      <td>POLYGON ((-6.29716 5.31661, -6.29685 5.31661, ...</td>\n",
       "      <td>0</td>\n",
       "      <td>NaN</td>\n",
       "    </tr>\n",
       "    <tr>\n",
       "      <th>2</th>\n",
       "      <td>ebuyyf8nd3</td>\n",
       "      <td>15522</td>\n",
       "      <td>1.170000e+04</td>\n",
       "      <td>1.800000e+02</td>\n",
       "      <td>5.400000e+02</td>\n",
       "      <td>POLYGON ((-4.27398 5.42099, -4.27398 5.41958, ...</td>\n",
       "      <td>0</td>\n",
       "      <td>NaN</td>\n",
       "    </tr>\n",
       "    <tr>\n",
       "      <th>3</th>\n",
       "      <td>ebytd6mkpw</td>\n",
       "      <td>16455</td>\n",
       "      <td>6.300000e+03</td>\n",
       "      <td>1.423025e+02</td>\n",
       "      <td>4.200000e+02</td>\n",
       "      <td>POLYGON ((-2.0036 5.19902, -2.0036 5.19854, -2...</td>\n",
       "      <td>0</td>\n",
       "      <td>NaN</td>\n",
       "    </tr>\n",
       "    <tr>\n",
       "      <th>4</th>\n",
       "      <td>ebgrm39xyg</td>\n",
       "      <td>15303</td>\n",
       "      <td>6.551100e+06</td>\n",
       "      <td>1.647146e+04</td>\n",
       "      <td>8.562000e+04</td>\n",
       "      <td>POLYGON ((-6.50269 5.55493, -6.50238 5.55493, ...</td>\n",
       "      <td>0</td>\n",
       "      <td>NaN</td>\n",
       "    </tr>\n",
       "    <tr>\n",
       "      <th>...</th>\n",
       "      <td>...</td>\n",
       "      <td>...</td>\n",
       "      <td>...</td>\n",
       "      <td>...</td>\n",
       "      <td>...</td>\n",
       "      <td>...</td>\n",
       "      <td>...</td>\n",
       "      <td>...</td>\n",
       "    </tr>\n",
       "    <tr>\n",
       "      <th>700707</th>\n",
       "      <td>t4jtnvcjmy</td>\n",
       "      <td>700711</td>\n",
       "      <td>9.900000e+03</td>\n",
       "      <td>1.800000e+02</td>\n",
       "      <td>5.400000e+02</td>\n",
       "      <td>POLYGON ((53.03262 12.16179, 53.03355 12.16179...</td>\n",
       "      <td>0</td>\n",
       "      <td>NaN</td>\n",
       "    </tr>\n",
       "    <tr>\n",
       "      <th>700708</th>\n",
       "      <td>t4jtpnq7kg</td>\n",
       "      <td>700712</td>\n",
       "      <td>1.260000e+04</td>\n",
       "      <td>2.100000e+02</td>\n",
       "      <td>6.000000e+02</td>\n",
       "      <td>POLYGON ((53.04972 12.16419, 53.04972 12.16395...</td>\n",
       "      <td>0</td>\n",
       "      <td>NaN</td>\n",
       "    </tr>\n",
       "    <tr>\n",
       "      <th>700709</th>\n",
       "      <td>krvt190zcz</td>\n",
       "      <td>253769</td>\n",
       "      <td>1.525888e+10</td>\n",
       "      <td>1.386130e+06</td>\n",
       "      <td>5.533158e+07</td>\n",
       "      <td>POLYGON ((14.92285 -4.66587, 14.92254 -4.66587...</td>\n",
       "      <td>0</td>\n",
       "      <td>Mai-Ndombe, Tumba</td>\n",
       "    </tr>\n",
       "    <tr>\n",
       "      <th>700710</th>\n",
       "      <td>kvbe9t2dk9</td>\n",
       "      <td>341715</td>\n",
       "      <td>2.987207e+10</td>\n",
       "      <td>7.019634e+05</td>\n",
       "      <td>2.964780e+06</td>\n",
       "      <td>POLYGON ((34.82889 -13.36661, 34.8292 -13.3666...</td>\n",
       "      <td>0</td>\n",
       "      <td>Malawi, Malombe</td>\n",
       "    </tr>\n",
       "    <tr>\n",
       "      <th>700711</th>\n",
       "      <td>sewvr0derz</td>\n",
       "      <td>668141</td>\n",
       "      <td>9.156798e+09</td>\n",
       "      <td>1.680781e+06</td>\n",
       "      <td>2.620266e+07</td>\n",
       "      <td>POLYGON ((30.33167 20.75167, 30.33198 20.75167...</td>\n",
       "      <td>1</td>\n",
       "      <td>Jebel Aulia Reservoir, Nasser</td>\n",
       "    </tr>\n",
       "  </tbody>\n",
       "</table>\n",
       "<p>700712 rows × 8 columns</p>\n",
       "</div>"
      ],
      "text/plain": [
       "               uid   wb_id       area_m2      length_m       perim_m  \\\n",
       "0       keyujdhemd  169502  7.812900e+06  2.124612e+04  8.256000e+04   \n",
       "1       ebgw0xw9gs   15400  1.710000e+04  4.500000e+02  1.020000e+03   \n",
       "2       ebuyyf8nd3   15522  1.170000e+04  1.800000e+02  5.400000e+02   \n",
       "3       ebytd6mkpw   16455  6.300000e+03  1.423025e+02  4.200000e+02   \n",
       "4       ebgrm39xyg   15303  6.551100e+06  1.647146e+04  8.562000e+04   \n",
       "...            ...     ...           ...           ...           ...   \n",
       "700707  t4jtnvcjmy  700711  9.900000e+03  1.800000e+02  5.400000e+02   \n",
       "700708  t4jtpnq7kg  700712  1.260000e+04  2.100000e+02  6.000000e+02   \n",
       "700709  krvt190zcz  253769  1.525888e+10  1.386130e+06  5.533158e+07   \n",
       "700710  kvbe9t2dk9  341715  2.987207e+10  7.019634e+05  2.964780e+06   \n",
       "700711  sewvr0derz  668141  9.156798e+09  1.680781e+06  2.620266e+07   \n",
       "\n",
       "                                                 geometry  \\\n",
       "0       POLYGON ((32.2308 -23.10242, 32.23204 -23.1024...   \n",
       "1       POLYGON ((-6.29716 5.31661, -6.29685 5.31661, ...   \n",
       "2       POLYGON ((-4.27398 5.42099, -4.27398 5.41958, ...   \n",
       "3       POLYGON ((-2.0036 5.19902, -2.0036 5.19854, -2...   \n",
       "4       POLYGON ((-6.50269 5.55493, -6.50238 5.55493, ...   \n",
       "...                                                   ...   \n",
       "700707  POLYGON ((53.03262 12.16179, 53.03355 12.16179...   \n",
       "700708  POLYGON ((53.04972 12.16419, 53.04972 12.16395...   \n",
       "700709  POLYGON ((14.92285 -4.66587, 14.92254 -4.66587...   \n",
       "700710  POLYGON ((34.82889 -13.36661, 34.8292 -13.3666...   \n",
       "700711  POLYGON ((30.33167 20.75167, 30.33198 20.75167...   \n",
       "\n",
       "        LakeATLAS_Reservoir                 LakeATLAS_Name  \n",
       "0                         0                            NaN  \n",
       "1                         0                            NaN  \n",
       "2                         0                            NaN  \n",
       "3                         0                            NaN  \n",
       "4                         0                            NaN  \n",
       "...                     ...                            ...  \n",
       "700707                    0                            NaN  \n",
       "700708                    0                            NaN  \n",
       "700709                    0              Mai-Ndombe, Tumba  \n",
       "700710                    0                Malawi, Malombe  \n",
       "700711                    1  Jebel Aulia Reservoir, Nasser  \n",
       "\n",
       "[700712 rows x 8 columns]"
      ]
     },
     "execution_count": 12,
     "metadata": {},
     "output_type": "execute_result"
    }
   ],
   "source": [
    "# Remove the waterbodies with more than one name from the larger dataframe. \n",
    "joined = joined.drop_duplicates(subset=['uid'], keep=False)\n",
    "# Add the fixed waterbodies back. \n",
    "named_deafrica_waterbodies = pd.concat([joined, duplicates], ignore_index=True, axis=0).rename(columns={'Lake_name': 'LakeATLAS_Name'})\n",
    "named_deafrica_waterbodies"
   ]
  },
  {
   "cell_type": "code",
   "execution_count": 13,
   "id": "fed4cc38-4fff-47fd-9166-a55e786a007f",
   "metadata": {},
   "outputs": [
    {
     "name": "stdout",
     "output_type": "stream",
     "text": [
      "6156 DE Africa waterbodies assigned name\n"
     ]
    }
   ],
   "source": [
    "print(f\"{len(named_deafrica_waterbodies[named_deafrica_waterbodies[\"LakeATLAS_Name\"].notna()])} DE Africa waterbodies assigned name\")"
   ]
  },
  {
   "cell_type": "code",
   "execution_count": 14,
   "id": "e0085957-25ab-40d4-bd24-77da111b2716",
   "metadata": {},
   "outputs": [],
   "source": [
    "assert len(deafrica_waterbodies) == len(named_deafrica_waterbodies)"
   ]
  },
  {
   "cell_type": "code",
   "execution_count": 15,
   "id": "d1184bf3-d307-41d2-b0d9-07ad0e14f95d",
   "metadata": {},
   "outputs": [],
   "source": [
    "# Export the updated waterbodies\n",
    "named_deafrica_waterbodies.to_parquet(os.path.join(data_dir, \"deafrica_waterbodies_lakeatlas_update.parquet\"))"
   ]
  },
  {
   "cell_type": "code",
   "execution_count": null,
   "id": "177c0672-325a-478b-bd5c-60fc47489cb7",
   "metadata": {},
   "outputs": [],
   "source": []
  }
 ],
 "metadata": {
  "kernelspec": {
   "display_name": "Python 3 (ipykernel)",
   "language": "python",
   "name": "python3"
  },
  "language_info": {
   "codemirror_mode": {
    "name": "ipython",
    "version": 3
   },
   "file_extension": ".py",
   "mimetype": "text/x-python",
   "name": "python",
   "nbconvert_exporter": "python",
   "pygments_lexer": "ipython3",
   "version": "3.12.9"
  }
 },
 "nbformat": 4,
 "nbformat_minor": 5
}

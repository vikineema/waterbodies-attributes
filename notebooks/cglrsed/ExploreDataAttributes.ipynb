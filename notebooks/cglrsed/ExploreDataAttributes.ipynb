{
 "cells": [
  {
   "cell_type": "code",
   "execution_count": 1,
   "id": "d4dcf6dc-2fb2-4b2d-b38f-2777956c507e",
   "metadata": {},
   "outputs": [],
   "source": [
    "import os\n",
    "import geopandas as gpd \n",
    "import pandas as pd"
   ]
  },
  {
   "cell_type": "code",
   "execution_count": 2,
   "id": "38a35c86-e005-42ef-97dd-b0a9ea1353b0",
   "metadata": {},
   "outputs": [],
   "source": [
    "data_dir = \"../../data/\""
   ]
  },
  {
   "cell_type": "code",
   "execution_count": 3,
   "id": "0f1a6b3e-4c45-4540-8005-d109f4b440ea",
   "metadata": {},
   "outputs": [
    {
     "name": "stdout",
     "output_type": "stream",
     "text": [
      "Loaded 700712 DE Africa waterbodies\n"
     ]
    }
   ],
   "source": [
    "# Load the DE Africa Waterbodies Historical Extent Product.\n",
    "deafrica_waterbodies_fp =  os.path.join(data_dir, \"waterbodies.parquet\")\n",
    "deafrica_waterbodies = gpd.read_parquet(deafrica_waterbodies_fp)\n",
    "print(f\"Loaded {len(deafrica_waterbodies)} DE Africa waterbodies\")"
   ]
  },
  {
   "cell_type": "code",
   "execution_count": 4,
   "id": "1d4377bf-deb0-4d39-90cf-2f9736b4c92a",
   "metadata": {},
   "outputs": [
    {
     "name": "stdout",
     "output_type": "stream",
     "text": [
      "Loaded 84059 waterbodies\n"
     ]
    }
   ],
   "source": [
    "cglrsed_fp = os.path.join(data_dir, \"GLRSED_shp_V1.2_by continent/AF.shp\")\n",
    "cglrsed  = gpd.read_file(cglrsed_fp)\n",
    "print(f\"Loaded {len(cglrsed)} waterbodies\")"
   ]
  },
  {
   "cell_type": "code",
   "execution_count": 5,
   "id": "40f744b9-03da-44d5-8dc3-92917d58d29d",
   "metadata": {},
   "outputs": [],
   "source": [
    "assert deafrica_waterbodies.crs.equals(cglrsed.crs)"
   ]
  },
  {
   "cell_type": "code",
   "execution_count": 6,
   "id": "c72d4314-6398-4802-9bf6-1e2ab7da6828",
   "metadata": {},
   "outputs": [
    {
     "name": "stdout",
     "output_type": "stream",
     "text": [
      "Found 71321 artificial waterbodies\n"
     ]
    }
   ],
   "source": [
    "# Identify the resevoirs in the dataset\n",
    "reservoirs = cglrsed[cglrsed[\"Reservoir\"]==1]\n",
    "print(f\"Found {len(reservoirs)} artificial waterbodies\")"
   ]
  },
  {
   "cell_type": "code",
   "execution_count": 7,
   "id": "a6c0be99-7edb-4ee0-be0b-0f0ba33673ff",
   "metadata": {},
   "outputs": [
    {
     "name": "stdout",
     "output_type": "stream",
     "text": [
      "Found 112 named waterbodies\n",
      "Found 45 named artificial waterbodies\n",
      "Found 67 named natural waterbodies\n"
     ]
    }
   ],
   "source": [
    "# How many waterbodies in the dataset have names?\n",
    "filtered_by_name = cglrsed[cglrsed[\"Name\"].notna()]\n",
    "print(f\"Found {len(filtered_by_name)} named waterbodies\")\n",
    "\n",
    "named_reservoirs = filtered_by_name[filtered_by_name[\"Reservoir\"]==1]\n",
    "print(f\"Found {len(named_reservoirs)} named artificial waterbodies\")\n",
    "\n",
    "named_natural_waterbodies = filtered_by_name[filtered_by_name[\"Reservoir\"]!=1]\n",
    "print(f\"Found {len(named_natural_waterbodies)} named natural waterbodies\")"
   ]
  },
  {
   "cell_type": "code",
   "execution_count": 8,
   "id": "f1681bdb-9826-497b-b8bb-94eb182fd787",
   "metadata": {},
   "outputs": [
    {
     "name": "stdout",
     "output_type": "stream",
     "text": [
      "24179 DE Africa waterbodies identified as reservoirs\n"
     ]
    }
   ],
   "source": [
    "# Identify the DE Africa waterbodies that are reservoirs based on intersection with the CGLRSED dataset\n",
    "reservoir_uids = deafrica_waterbodies.sjoin(reservoirs, how=\"inner\", predicate=\"intersects\")[\"uid\"].unique()\n",
    "# Set the default to 0 which means is not a reservoir\n",
    "deafrica_waterbodies[\"GLRSED_Reservoir\"] = 0 \n",
    "deafrica_waterbodies.loc[deafrica_waterbodies[\"uid\"].isin(reservoir_uids), \"GLRSED_Reservoir\"] = 1\n",
    "\n",
    "print(f\"{len(deafrica_waterbodies[deafrica_waterbodies['GLRSED_Reservoir'] == 1])} DE Africa waterbodies identified as reservoirs\")"
   ]
  },
  {
   "cell_type": "code",
   "execution_count": 9,
   "id": "a23eae95-f776-4f11-a3a6-1a4f822465b3",
   "metadata": {},
   "outputs": [],
   "source": [
    "# Assign names to the DE Africa waterbodies based on intersection with the CGLRSED dataset\n",
    "joined = deafrica_waterbodies.sjoin(filtered_by_name[['Name',\"geometry\"]], how=\"left\", predicate=\"intersects\")\n",
    "keep_columns = list(deafrica_waterbodies.columns) + [\"Name\"]\n",
    "joined = joined[keep_columns]"
   ]
  },
  {
   "cell_type": "code",
   "execution_count": 10,
   "id": "b8c94ec5-15a8-448a-af11-d69afb8da832",
   "metadata": {},
   "outputs": [
    {
     "data": {
      "text/html": [
       "<div>\n",
       "<style scoped>\n",
       "    .dataframe tbody tr th:only-of-type {\n",
       "        vertical-align: middle;\n",
       "    }\n",
       "\n",
       "    .dataframe tbody tr th {\n",
       "        vertical-align: top;\n",
       "    }\n",
       "\n",
       "    .dataframe thead th {\n",
       "        text-align: right;\n",
       "    }\n",
       "</style>\n",
       "<table border=\"1\" class=\"dataframe\">\n",
       "  <thead>\n",
       "    <tr style=\"text-align: right;\">\n",
       "      <th></th>\n",
       "      <th>uid</th>\n",
       "      <th>wb_id</th>\n",
       "      <th>area_m2</th>\n",
       "      <th>length_m</th>\n",
       "      <th>perim_m</th>\n",
       "      <th>geometry</th>\n",
       "      <th>GLRSED_Reservoir</th>\n",
       "      <th>Name</th>\n",
       "    </tr>\n",
       "  </thead>\n",
       "  <tbody>\n",
       "    <tr>\n",
       "      <th>0</th>\n",
       "      <td>krvt190zcz</td>\n",
       "      <td>253769</td>\n",
       "      <td>1.525888e+10</td>\n",
       "      <td>1.386130e+06</td>\n",
       "      <td>5.533158e+07</td>\n",
       "      <td>POLYGON ((14.92285 -4.66587, 14.92254 -4.66587...</td>\n",
       "      <td>1</td>\n",
       "      <td>Mai-Ndombe, Tumba</td>\n",
       "    </tr>\n",
       "    <tr>\n",
       "      <th>1</th>\n",
       "      <td>kvbe9t2dk9</td>\n",
       "      <td>341715</td>\n",
       "      <td>2.987207e+10</td>\n",
       "      <td>7.019634e+05</td>\n",
       "      <td>2.964780e+06</td>\n",
       "      <td>POLYGON ((34.82889 -13.36661, 34.8292 -13.3666...</td>\n",
       "      <td>1</td>\n",
       "      <td>Malawi, Malombe</td>\n",
       "    </tr>\n",
       "    <tr>\n",
       "      <th>2</th>\n",
       "      <td>sewvr0derz</td>\n",
       "      <td>668141</td>\n",
       "      <td>9.156798e+09</td>\n",
       "      <td>1.680781e+06</td>\n",
       "      <td>2.620266e+07</td>\n",
       "      <td>POLYGON ((30.33167 20.75167, 30.33198 20.75167...</td>\n",
       "      <td>1</td>\n",
       "      <td>Jebel Aulia Reservoir, Nasser</td>\n",
       "    </tr>\n",
       "  </tbody>\n",
       "</table>\n",
       "</div>"
      ],
      "text/plain": [
       "          uid   wb_id       area_m2      length_m       perim_m  \\\n",
       "0  krvt190zcz  253769  1.525888e+10  1.386130e+06  5.533158e+07   \n",
       "1  kvbe9t2dk9  341715  2.987207e+10  7.019634e+05  2.964780e+06   \n",
       "2  sewvr0derz  668141  9.156798e+09  1.680781e+06  2.620266e+07   \n",
       "\n",
       "                                            geometry  GLRSED_Reservoir  \\\n",
       "0  POLYGON ((14.92285 -4.66587, 14.92254 -4.66587...                 1   \n",
       "1  POLYGON ((34.82889 -13.36661, 34.8292 -13.3666...                 1   \n",
       "2  POLYGON ((30.33167 20.75167, 30.33198 20.75167...                 1   \n",
       "\n",
       "                            Name  \n",
       "0              Mai-Ndombe, Tumba  \n",
       "1                Malawi, Malombe  \n",
       "2  Jebel Aulia Reservoir, Nasser  "
      ]
     },
     "execution_count": 10,
     "metadata": {},
     "output_type": "execute_result"
    }
   ],
   "source": [
    "# Get the waterbodies that got assigned more than one name\n",
    "duplicates = joined[joined.duplicated(\"uid\", keep=False)]\n",
    "\n",
    "# Combine the Name for waterbodies with more than one Name.\n",
    "name_combined = (\n",
    "    duplicates\n",
    "    .groupby('uid')['Name']\n",
    "    .agg(lambda x: ', '.join(sorted(set(x))))\n",
    "    .reset_index()\n",
    ")\n",
    "duplicates = duplicates.drop_duplicates(subset=['uid'], keep=\"first\").drop(columns=[\"Name\"]).merge(name_combined, on=\"uid\")\n",
    "duplicates"
   ]
  },
  {
   "cell_type": "code",
   "execution_count": 12,
   "id": "14ca3eb2-997d-4b1e-804d-271a811d1f09",
   "metadata": {},
   "outputs": [
    {
     "data": {
      "text/html": [
       "<div>\n",
       "<style scoped>\n",
       "    .dataframe tbody tr th:only-of-type {\n",
       "        vertical-align: middle;\n",
       "    }\n",
       "\n",
       "    .dataframe tbody tr th {\n",
       "        vertical-align: top;\n",
       "    }\n",
       "\n",
       "    .dataframe thead th {\n",
       "        text-align: right;\n",
       "    }\n",
       "</style>\n",
       "<table border=\"1\" class=\"dataframe\">\n",
       "  <thead>\n",
       "    <tr style=\"text-align: right;\">\n",
       "      <th></th>\n",
       "      <th>uid</th>\n",
       "      <th>wb_id</th>\n",
       "      <th>area_m2</th>\n",
       "      <th>length_m</th>\n",
       "      <th>perim_m</th>\n",
       "      <th>geometry</th>\n",
       "      <th>GLRSED_Reservoir</th>\n",
       "      <th>GLRSED_Name</th>\n",
       "    </tr>\n",
       "  </thead>\n",
       "  <tbody>\n",
       "    <tr>\n",
       "      <th>0</th>\n",
       "      <td>keyujdhemd</td>\n",
       "      <td>169502</td>\n",
       "      <td>7.812900e+06</td>\n",
       "      <td>2.124612e+04</td>\n",
       "      <td>8.256000e+04</td>\n",
       "      <td>POLYGON ((32.2308 -23.10242, 32.23204 -23.1024...</td>\n",
       "      <td>0</td>\n",
       "      <td>NaN</td>\n",
       "    </tr>\n",
       "    <tr>\n",
       "      <th>1</th>\n",
       "      <td>ebgw0xw9gs</td>\n",
       "      <td>15400</td>\n",
       "      <td>1.710000e+04</td>\n",
       "      <td>4.500000e+02</td>\n",
       "      <td>1.020000e+03</td>\n",
       "      <td>POLYGON ((-6.29716 5.31661, -6.29685 5.31661, ...</td>\n",
       "      <td>0</td>\n",
       "      <td>NaN</td>\n",
       "    </tr>\n",
       "    <tr>\n",
       "      <th>2</th>\n",
       "      <td>ebuyyf8nd3</td>\n",
       "      <td>15522</td>\n",
       "      <td>1.170000e+04</td>\n",
       "      <td>1.800000e+02</td>\n",
       "      <td>5.400000e+02</td>\n",
       "      <td>POLYGON ((-4.27398 5.42099, -4.27398 5.41958, ...</td>\n",
       "      <td>0</td>\n",
       "      <td>NaN</td>\n",
       "    </tr>\n",
       "    <tr>\n",
       "      <th>3</th>\n",
       "      <td>ebytd6mkpw</td>\n",
       "      <td>16455</td>\n",
       "      <td>6.300000e+03</td>\n",
       "      <td>1.423025e+02</td>\n",
       "      <td>4.200000e+02</td>\n",
       "      <td>POLYGON ((-2.0036 5.19902, -2.0036 5.19854, -2...</td>\n",
       "      <td>0</td>\n",
       "      <td>NaN</td>\n",
       "    </tr>\n",
       "    <tr>\n",
       "      <th>4</th>\n",
       "      <td>ebgrm39xyg</td>\n",
       "      <td>15303</td>\n",
       "      <td>6.551100e+06</td>\n",
       "      <td>1.647146e+04</td>\n",
       "      <td>8.562000e+04</td>\n",
       "      <td>POLYGON ((-6.50269 5.55493, -6.50238 5.55493, ...</td>\n",
       "      <td>0</td>\n",
       "      <td>NaN</td>\n",
       "    </tr>\n",
       "    <tr>\n",
       "      <th>...</th>\n",
       "      <td>...</td>\n",
       "      <td>...</td>\n",
       "      <td>...</td>\n",
       "      <td>...</td>\n",
       "      <td>...</td>\n",
       "      <td>...</td>\n",
       "      <td>...</td>\n",
       "      <td>...</td>\n",
       "    </tr>\n",
       "    <tr>\n",
       "      <th>700707</th>\n",
       "      <td>t4jtnvcjmy</td>\n",
       "      <td>700711</td>\n",
       "      <td>9.900000e+03</td>\n",
       "      <td>1.800000e+02</td>\n",
       "      <td>5.400000e+02</td>\n",
       "      <td>POLYGON ((53.03262 12.16179, 53.03355 12.16179...</td>\n",
       "      <td>0</td>\n",
       "      <td>NaN</td>\n",
       "    </tr>\n",
       "    <tr>\n",
       "      <th>700708</th>\n",
       "      <td>t4jtpnq7kg</td>\n",
       "      <td>700712</td>\n",
       "      <td>1.260000e+04</td>\n",
       "      <td>2.100000e+02</td>\n",
       "      <td>6.000000e+02</td>\n",
       "      <td>POLYGON ((53.04972 12.16419, 53.04972 12.16395...</td>\n",
       "      <td>0</td>\n",
       "      <td>NaN</td>\n",
       "    </tr>\n",
       "    <tr>\n",
       "      <th>700709</th>\n",
       "      <td>krvt190zcz</td>\n",
       "      <td>253769</td>\n",
       "      <td>1.525888e+10</td>\n",
       "      <td>1.386130e+06</td>\n",
       "      <td>5.533158e+07</td>\n",
       "      <td>POLYGON ((14.92285 -4.66587, 14.92254 -4.66587...</td>\n",
       "      <td>1</td>\n",
       "      <td>Mai-Ndombe, Tumba</td>\n",
       "    </tr>\n",
       "    <tr>\n",
       "      <th>700710</th>\n",
       "      <td>kvbe9t2dk9</td>\n",
       "      <td>341715</td>\n",
       "      <td>2.987207e+10</td>\n",
       "      <td>7.019634e+05</td>\n",
       "      <td>2.964780e+06</td>\n",
       "      <td>POLYGON ((34.82889 -13.36661, 34.8292 -13.3666...</td>\n",
       "      <td>1</td>\n",
       "      <td>Malawi, Malombe</td>\n",
       "    </tr>\n",
       "    <tr>\n",
       "      <th>700711</th>\n",
       "      <td>sewvr0derz</td>\n",
       "      <td>668141</td>\n",
       "      <td>9.156798e+09</td>\n",
       "      <td>1.680781e+06</td>\n",
       "      <td>2.620266e+07</td>\n",
       "      <td>POLYGON ((30.33167 20.75167, 30.33198 20.75167...</td>\n",
       "      <td>1</td>\n",
       "      <td>Jebel Aulia Reservoir, Nasser</td>\n",
       "    </tr>\n",
       "  </tbody>\n",
       "</table>\n",
       "<p>700712 rows × 8 columns</p>\n",
       "</div>"
      ],
      "text/plain": [
       "               uid   wb_id       area_m2      length_m       perim_m  \\\n",
       "0       keyujdhemd  169502  7.812900e+06  2.124612e+04  8.256000e+04   \n",
       "1       ebgw0xw9gs   15400  1.710000e+04  4.500000e+02  1.020000e+03   \n",
       "2       ebuyyf8nd3   15522  1.170000e+04  1.800000e+02  5.400000e+02   \n",
       "3       ebytd6mkpw   16455  6.300000e+03  1.423025e+02  4.200000e+02   \n",
       "4       ebgrm39xyg   15303  6.551100e+06  1.647146e+04  8.562000e+04   \n",
       "...            ...     ...           ...           ...           ...   \n",
       "700707  t4jtnvcjmy  700711  9.900000e+03  1.800000e+02  5.400000e+02   \n",
       "700708  t4jtpnq7kg  700712  1.260000e+04  2.100000e+02  6.000000e+02   \n",
       "700709  krvt190zcz  253769  1.525888e+10  1.386130e+06  5.533158e+07   \n",
       "700710  kvbe9t2dk9  341715  2.987207e+10  7.019634e+05  2.964780e+06   \n",
       "700711  sewvr0derz  668141  9.156798e+09  1.680781e+06  2.620266e+07   \n",
       "\n",
       "                                                 geometry  GLRSED_Reservoir  \\\n",
       "0       POLYGON ((32.2308 -23.10242, 32.23204 -23.1024...                 0   \n",
       "1       POLYGON ((-6.29716 5.31661, -6.29685 5.31661, ...                 0   \n",
       "2       POLYGON ((-4.27398 5.42099, -4.27398 5.41958, ...                 0   \n",
       "3       POLYGON ((-2.0036 5.19902, -2.0036 5.19854, -2...                 0   \n",
       "4       POLYGON ((-6.50269 5.55493, -6.50238 5.55493, ...                 0   \n",
       "...                                                   ...               ...   \n",
       "700707  POLYGON ((53.03262 12.16179, 53.03355 12.16179...                 0   \n",
       "700708  POLYGON ((53.04972 12.16419, 53.04972 12.16395...                 0   \n",
       "700709  POLYGON ((14.92285 -4.66587, 14.92254 -4.66587...                 1   \n",
       "700710  POLYGON ((34.82889 -13.36661, 34.8292 -13.3666...                 1   \n",
       "700711  POLYGON ((30.33167 20.75167, 30.33198 20.75167...                 1   \n",
       "\n",
       "                          GLRSED_Name  \n",
       "0                                 NaN  \n",
       "1                                 NaN  \n",
       "2                                 NaN  \n",
       "3                                 NaN  \n",
       "4                                 NaN  \n",
       "...                               ...  \n",
       "700707                            NaN  \n",
       "700708                            NaN  \n",
       "700709              Mai-Ndombe, Tumba  \n",
       "700710                Malawi, Malombe  \n",
       "700711  Jebel Aulia Reservoir, Nasser  \n",
       "\n",
       "[700712 rows x 8 columns]"
      ]
     },
     "execution_count": 12,
     "metadata": {},
     "output_type": "execute_result"
    }
   ],
   "source": [
    "# Remove the waterbodies with more than one name from the larger dataframe. \n",
    "joined = joined.drop_duplicates(subset=['uid'], keep=False)\n",
    "# Add the fixed waterbodies back. \n",
    "named_deafrica_waterbodies = pd.concat([joined, duplicates], ignore_index=True, axis=0).rename(columns={'Name': 'GLRSED_Name'})\n",
    "named_deafrica_waterbodies"
   ]
  },
  {
   "cell_type": "code",
   "execution_count": 13,
   "id": "80c82249-1402-4604-b307-f890c0dc3a3f",
   "metadata": {},
   "outputs": [
    {
     "name": "stdout",
     "output_type": "stream",
     "text": [
      "6850 DE Africa waterbodies assigned name\n"
     ]
    }
   ],
   "source": [
    "print(f\"{len(named_deafrica_waterbodies[named_deafrica_waterbodies[\"GLRSED_Name\"].notna()])} DE Africa waterbodies assigned name\")"
   ]
  },
  {
   "cell_type": "code",
   "execution_count": 14,
   "id": "5f496861-c437-4397-a15e-2a2ba348503d",
   "metadata": {},
   "outputs": [],
   "source": [
    "assert len(deafrica_waterbodies) == len(named_deafrica_waterbodies)"
   ]
  },
  {
   "cell_type": "code",
   "execution_count": 15,
   "id": "4ebc8e96-d593-44fa-98db-1609c5c8edbe",
   "metadata": {},
   "outputs": [],
   "source": [
    "# Export the updated waterbodies\n",
    "named_deafrica_waterbodies.to_parquet(os.path.join(data_dir, \"deafrica_waterbodies_cglrsed_update.parquet\"))"
   ]
  }
 ],
 "metadata": {
  "kernelspec": {
   "display_name": "Python 3 (ipykernel)",
   "language": "python",
   "name": "python3"
  },
  "language_info": {
   "codemirror_mode": {
    "name": "ipython",
    "version": 3
   },
   "file_extension": ".py",
   "mimetype": "text/x-python",
   "name": "python",
   "nbconvert_exporter": "python",
   "pygments_lexer": "ipython3",
   "version": "3.12.9"
  }
 },
 "nbformat": 4,
 "nbformat_minor": 5
}
